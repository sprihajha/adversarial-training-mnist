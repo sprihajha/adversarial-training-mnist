{
  "nbformat": 4,
  "nbformat_minor": 0,
  "metadata": {
    "colab": {
      "provenance": []
    },
    "kernelspec": {
      "name": "python3",
      "display_name": "Python 3"
    },
    "language_info": {
      "name": "python"
    }
  },
  "cells": [
    {
      "cell_type": "markdown",
      "source": [
        "## 7B. Adversarial training\n",
        "\n",
        "Spriha Jha (net ID)"
      ],
      "metadata": {
        "id": "ymLuex86v22i"
      }
    },
    {
      "cell_type": "markdown",
      "source": [
        "---\n",
        "\n",
        "Replace the \"Title\" text above with the title of your project, and replace the \"Name\" and \"net ID\" with the name(s) and net ID(s) of all the team members.\n",
        "\n",
        "Also replace the \"[Project Title]\" text in the notebook title.\n",
        "\n",
        "Then, delete this cell.\n",
        "\n",
        "---"
      ],
      "metadata": {
        "id": "5ckoJXt30YRc"
      }
    },
    {
      "cell_type": "markdown",
      "source": [
        "## Background"
      ],
      "metadata": {
        "id": "WbLN_GTewojk"
      }
    },
    {
      "cell_type": "markdown",
      "source": [
        "---\n",
        "\n",
        "Instructions: In this section, add text cells and write 4-10 paragraphs about the technique, model, or dataset that is the topic of your project. \n",
        "\n",
        "This can include, but does not have to include/is not limited to, the following: what is it, how is it used, why is it important, what are some interesting details people should know about it, what are the challenges that this work addresses, what is the \"new\" contribution of this work compared to the pre-existing work, what are its disadvantages and limitations. Etc.\n",
        "\n",
        "This text:\n",
        "\n",
        "* 🚫 **should not be copied directly from any source**. \n",
        "  * If you copy verbatim from another source without a proper citation, it is a violation of academic integrity and the project will earn a zero grade. \n",
        "  * If you copy verbatim from another source *with* a proper citation, it's not a violation of academic integrity - but it still won't earn a good grade, because I am not asking for a direct quote here.\n",
        "* 🚫 **should not be a direct paraphrase from any source, either** - A direct paraphrase is when you take a chunk of text from an existing source, and then re-write it in different words. \n",
        " * If you do this without a proper citation, it is a violation of academic integrity and the project will earn a zero grade. \n",
        " * If you do this with citation, it is not a violation of academic integrity - but it still won't  earn a good grade, because it's not what I am asking for here. A direct paraphrase shows that you can write in English, but doesn't show that you understood what you are writing! (In fact, there are many ML models that can paraphrase arbitrary text for you - they don't need to \"understand\" the text to paraphrase it.)\n",
        "* ✅ **should summarize and synthesize content from multiple parts of the main paper and/or from multiple sources in your own words, and cite sources**. \n",
        "  * Your work should show that you really understand what you read, and are able to critically pick out the important elements, then explain them and put them together in a way that makes sense of it all.\n",
        "  * You should show the ability to use additional high-quality sources in order to understand the main paper, if necessary. If you use outside sources (beyond the \"main paper\" that your project is about), make sure to cite them, too.\n",
        "  * You still need to cite the source of the ideas that you are writing about, even if you write about them in your own words.\n",
        "  * When citing sources, it's not enough to just have a list of references at the end. You also need to show how and where you used those references, by adding appropriate *in-text citations*.\n",
        "  * If you include equations from any outside source (the \"main paper\" or any other source), make sure to cite them. (Don't paraphrase equations. But DO explain them in your own words!)\n",
        "  * If you include images (e.g. diagrams) in this section, make sure to cite sources too. Underneath each image, either \n",
        "    * cite the source if it is copied directly, e.g.: \"Image from [3]\".\n",
        "    * cite the source if it is based on an image you saw somewhere else, but you drew it yourself or modified an existing image. e.g. \"Image adapted from [6]\".\n",
        "    * if you created an image yourself and it's not based on any existing image you saw, explicitly mention that. e.g. \"Image is original work\". \n",
        "\n",
        "\n",
        "(here's a quick video about the difference between quoting, paraphrasing, and synthesizing: https://www.youtube.com/watch?v=mhtxm5CSwUs) \n",
        "\n",
        "Delete this cell of instructions after you have finished this section.\n",
        "\n",
        "---"
      ],
      "metadata": {
        "id": "ckwpHejMxLP-"
      }
    },
    {
      "cell_type": "markdown",
      "source": [
        "## Working with the existing code"
      ],
      "metadata": {
        "id": "Vdf28bFUwqNh"
      }
    },
    {
      "cell_type": "markdown",
      "source": [
        "---\n",
        "\n",
        "In this section, you will include the code that you were given as a starting point.\n",
        "\n",
        "At the top of this section, add a text cell:\n",
        "\n",
        "* citing the exact source of the code\n",
        "* explaining **in your own words** (an original summary, not a direct quote or paraphase - see above) what the code does.\n",
        "* and describing any changes you had to make to get it to run. (For example: \"To get this to run, I had to install `foo` version 5.9, since the code does not work with the latest version 5.60. I also had to change references to `foo.bar()` to instead say `foo.bar.x()`, to reflect a change in the `foo` library.\"\n",
        "\n",
        "Then, the rest of this section can be code cells + code output cells. These will be assumed to be copied from the existing code you were given as a starting point.\n",
        "\n",
        "Delete this cell of instructions after you have finished this section.\n",
        "\n",
        "---"
      ],
      "metadata": {
        "id": "q42VESxn4c2k"
      }
    },
    {
      "cell_type": "markdown",
      "source": [
        "## 1. Load prereqs and data"
      ],
      "metadata": {
        "id": "BmkO3Enrdkft"
      }
    },
    {
      "cell_type": "code",
      "source": [
        "!pip install adversarial-robustness-toolbox\n",
        "!pip install adversarial-robustness-toolbox[tensorflow]\n",
        "\n",
        "import tensorflow as tf\n",
        "\n",
        "tf.compat.v1.disable_eager_execution()\n",
        "\n",
        "import warnings\n",
        "warnings.filterwarnings('ignore')\n",
        "from keras.models import load_model\n",
        "\n",
        "from art import config\n",
        "from art.utils import load_dataset, get_file\n",
        "from art.estimators.classification import KerasClassifier\n",
        "from art.attacks.evasion import FastGradientMethod\n",
        "from art.attacks.evasion import BasicIterativeMethod\n",
        "from art.defences.trainer import AdversarialTrainer\n",
        "\n",
        "import numpy as np\n",
        "\n",
        "%matplotlib inline\n",
        "import matplotlib.pyplot as plt"
      ],
      "metadata": {
        "id": "RztSkV-OdUac",
        "colab": {
          "base_uri": "https://localhost:8080/"
        },
        "outputId": "63fff3e7-b8cb-4e82-daf8-0a6b4dfd1830"
      },
      "execution_count": 1,
      "outputs": [
        {
          "output_type": "stream",
          "name": "stdout",
          "text": [
            "Looking in indexes: https://pypi.org/simple, https://us-python.pkg.dev/colab-wheels/public/simple/\n",
            "Requirement already satisfied: adversarial-robustness-toolbox in /usr/local/lib/python3.8/dist-packages (1.12.2)\n",
            "Requirement already satisfied: six in /usr/local/lib/python3.8/dist-packages (from adversarial-robustness-toolbox) (1.15.0)\n",
            "Requirement already satisfied: tqdm in /usr/local/lib/python3.8/dist-packages (from adversarial-robustness-toolbox) (4.64.1)\n",
            "Requirement already satisfied: scipy>=1.4.1 in /usr/local/lib/python3.8/dist-packages (from adversarial-robustness-toolbox) (1.7.3)\n",
            "Requirement already satisfied: numpy>=1.18.0 in /usr/local/lib/python3.8/dist-packages (from adversarial-robustness-toolbox) (1.21.6)\n",
            "Requirement already satisfied: setuptools in /usr/local/lib/python3.8/dist-packages (from adversarial-robustness-toolbox) (57.4.0)\n",
            "Requirement already satisfied: scikit-learn<1.1.0,>=0.22.2 in /usr/local/lib/python3.8/dist-packages (from adversarial-robustness-toolbox) (1.0.2)\n",
            "Requirement already satisfied: threadpoolctl>=2.0.0 in /usr/local/lib/python3.8/dist-packages (from scikit-learn<1.1.0,>=0.22.2->adversarial-robustness-toolbox) (3.1.0)\n",
            "Requirement already satisfied: joblib>=0.11 in /usr/local/lib/python3.8/dist-packages (from scikit-learn<1.1.0,>=0.22.2->adversarial-robustness-toolbox) (1.2.0)\n",
            "Looking in indexes: https://pypi.org/simple, https://us-python.pkg.dev/colab-wheels/public/simple/\n",
            "Requirement already satisfied: adversarial-robustness-toolbox[tensorflow] in /usr/local/lib/python3.8/dist-packages (1.12.2)\n",
            "Requirement already satisfied: setuptools in /usr/local/lib/python3.8/dist-packages (from adversarial-robustness-toolbox[tensorflow]) (57.4.0)\n",
            "Requirement already satisfied: six in /usr/local/lib/python3.8/dist-packages (from adversarial-robustness-toolbox[tensorflow]) (1.15.0)\n",
            "Requirement already satisfied: scipy>=1.4.1 in /usr/local/lib/python3.8/dist-packages (from adversarial-robustness-toolbox[tensorflow]) (1.7.3)\n",
            "Requirement already satisfied: tqdm in /usr/local/lib/python3.8/dist-packages (from adversarial-robustness-toolbox[tensorflow]) (4.64.1)\n",
            "Requirement already satisfied: scikit-learn<1.1.0,>=0.22.2 in /usr/local/lib/python3.8/dist-packages (from adversarial-robustness-toolbox[tensorflow]) (1.0.2)\n",
            "Requirement already satisfied: numpy>=1.18.0 in /usr/local/lib/python3.8/dist-packages (from adversarial-robustness-toolbox[tensorflow]) (1.21.6)\n",
            "Requirement already satisfied: h5py in /usr/local/lib/python3.8/dist-packages (from adversarial-robustness-toolbox[tensorflow]) (3.1.0)\n",
            "Requirement already satisfied: tensorflow in /usr/local/lib/python3.8/dist-packages (from adversarial-robustness-toolbox[tensorflow]) (2.9.2)\n",
            "Requirement already satisfied: tensorflow-addons in /usr/local/lib/python3.8/dist-packages (from adversarial-robustness-toolbox[tensorflow]) (0.19.0)\n",
            "Requirement already satisfied: threadpoolctl>=2.0.0 in /usr/local/lib/python3.8/dist-packages (from scikit-learn<1.1.0,>=0.22.2->adversarial-robustness-toolbox[tensorflow]) (3.1.0)\n",
            "Requirement already satisfied: joblib>=0.11 in /usr/local/lib/python3.8/dist-packages (from scikit-learn<1.1.0,>=0.22.2->adversarial-robustness-toolbox[tensorflow]) (1.2.0)\n",
            "Requirement already satisfied: google-pasta>=0.1.1 in /usr/local/lib/python3.8/dist-packages (from tensorflow->adversarial-robustness-toolbox[tensorflow]) (0.2.0)\n",
            "Requirement already satisfied: tensorflow-estimator<2.10.0,>=2.9.0rc0 in /usr/local/lib/python3.8/dist-packages (from tensorflow->adversarial-robustness-toolbox[tensorflow]) (2.9.0)\n",
            "Requirement already satisfied: packaging in /usr/local/lib/python3.8/dist-packages (from tensorflow->adversarial-robustness-toolbox[tensorflow]) (21.3)\n",
            "Requirement already satisfied: tensorflow-io-gcs-filesystem>=0.23.1 in /usr/local/lib/python3.8/dist-packages (from tensorflow->adversarial-robustness-toolbox[tensorflow]) (0.28.0)\n",
            "Requirement already satisfied: astunparse>=1.6.0 in /usr/local/lib/python3.8/dist-packages (from tensorflow->adversarial-robustness-toolbox[tensorflow]) (1.6.3)\n",
            "Requirement already satisfied: keras<2.10.0,>=2.9.0rc0 in /usr/local/lib/python3.8/dist-packages (from tensorflow->adversarial-robustness-toolbox[tensorflow]) (2.9.0)\n",
            "Requirement already satisfied: tensorboard<2.10,>=2.9 in /usr/local/lib/python3.8/dist-packages (from tensorflow->adversarial-robustness-toolbox[tensorflow]) (2.9.1)\n",
            "Requirement already satisfied: typing-extensions>=3.6.6 in /usr/local/lib/python3.8/dist-packages (from tensorflow->adversarial-robustness-toolbox[tensorflow]) (4.4.0)\n",
            "Requirement already satisfied: wrapt>=1.11.0 in /usr/local/lib/python3.8/dist-packages (from tensorflow->adversarial-robustness-toolbox[tensorflow]) (1.14.1)\n",
            "Requirement already satisfied: gast<=0.4.0,>=0.2.1 in /usr/local/lib/python3.8/dist-packages (from tensorflow->adversarial-robustness-toolbox[tensorflow]) (0.4.0)\n",
            "Requirement already satisfied: grpcio<2.0,>=1.24.3 in /usr/local/lib/python3.8/dist-packages (from tensorflow->adversarial-robustness-toolbox[tensorflow]) (1.51.1)\n",
            "Requirement already satisfied: absl-py>=1.0.0 in /usr/local/lib/python3.8/dist-packages (from tensorflow->adversarial-robustness-toolbox[tensorflow]) (1.3.0)\n",
            "Requirement already satisfied: protobuf<3.20,>=3.9.2 in /usr/local/lib/python3.8/dist-packages (from tensorflow->adversarial-robustness-toolbox[tensorflow]) (3.19.6)\n",
            "Requirement already satisfied: libclang>=13.0.0 in /usr/local/lib/python3.8/dist-packages (from tensorflow->adversarial-robustness-toolbox[tensorflow]) (14.0.6)\n",
            "Requirement already satisfied: termcolor>=1.1.0 in /usr/local/lib/python3.8/dist-packages (from tensorflow->adversarial-robustness-toolbox[tensorflow]) (2.1.1)\n",
            "Requirement already satisfied: keras-preprocessing>=1.1.1 in /usr/local/lib/python3.8/dist-packages (from tensorflow->adversarial-robustness-toolbox[tensorflow]) (1.1.2)\n",
            "Requirement already satisfied: flatbuffers<2,>=1.12 in /usr/local/lib/python3.8/dist-packages (from tensorflow->adversarial-robustness-toolbox[tensorflow]) (1.12)\n",
            "Requirement already satisfied: opt-einsum>=2.3.2 in /usr/local/lib/python3.8/dist-packages (from tensorflow->adversarial-robustness-toolbox[tensorflow]) (3.3.0)\n",
            "Requirement already satisfied: wheel<1.0,>=0.23.0 in /usr/local/lib/python3.8/dist-packages (from astunparse>=1.6.0->tensorflow->adversarial-robustness-toolbox[tensorflow]) (0.38.4)\n",
            "Requirement already satisfied: requests<3,>=2.21.0 in /usr/local/lib/python3.8/dist-packages (from tensorboard<2.10,>=2.9->tensorflow->adversarial-robustness-toolbox[tensorflow]) (2.23.0)\n",
            "Requirement already satisfied: tensorboard-data-server<0.7.0,>=0.6.0 in /usr/local/lib/python3.8/dist-packages (from tensorboard<2.10,>=2.9->tensorflow->adversarial-robustness-toolbox[tensorflow]) (0.6.1)\n",
            "Requirement already satisfied: markdown>=2.6.8 in /usr/local/lib/python3.8/dist-packages (from tensorboard<2.10,>=2.9->tensorflow->adversarial-robustness-toolbox[tensorflow]) (3.4.1)\n",
            "Requirement already satisfied: werkzeug>=1.0.1 in /usr/local/lib/python3.8/dist-packages (from tensorboard<2.10,>=2.9->tensorflow->adversarial-robustness-toolbox[tensorflow]) (1.0.1)\n",
            "Requirement already satisfied: google-auth-oauthlib<0.5,>=0.4.1 in /usr/local/lib/python3.8/dist-packages (from tensorboard<2.10,>=2.9->tensorflow->adversarial-robustness-toolbox[tensorflow]) (0.4.6)\n",
            "Requirement already satisfied: tensorboard-plugin-wit>=1.6.0 in /usr/local/lib/python3.8/dist-packages (from tensorboard<2.10,>=2.9->tensorflow->adversarial-robustness-toolbox[tensorflow]) (1.8.1)\n",
            "Requirement already satisfied: google-auth<3,>=1.6.3 in /usr/local/lib/python3.8/dist-packages (from tensorboard<2.10,>=2.9->tensorflow->adversarial-robustness-toolbox[tensorflow]) (2.15.0)\n",
            "Requirement already satisfied: rsa<5,>=3.1.4 in /usr/local/lib/python3.8/dist-packages (from google-auth<3,>=1.6.3->tensorboard<2.10,>=2.9->tensorflow->adversarial-robustness-toolbox[tensorflow]) (4.9)\n",
            "Requirement already satisfied: pyasn1-modules>=0.2.1 in /usr/local/lib/python3.8/dist-packages (from google-auth<3,>=1.6.3->tensorboard<2.10,>=2.9->tensorflow->adversarial-robustness-toolbox[tensorflow]) (0.2.8)\n",
            "Requirement already satisfied: cachetools<6.0,>=2.0.0 in /usr/local/lib/python3.8/dist-packages (from google-auth<3,>=1.6.3->tensorboard<2.10,>=2.9->tensorflow->adversarial-robustness-toolbox[tensorflow]) (5.2.0)\n",
            "Requirement already satisfied: requests-oauthlib>=0.7.0 in /usr/local/lib/python3.8/dist-packages (from google-auth-oauthlib<0.5,>=0.4.1->tensorboard<2.10,>=2.9->tensorflow->adversarial-robustness-toolbox[tensorflow]) (1.3.1)\n",
            "Requirement already satisfied: importlib-metadata>=4.4 in /usr/local/lib/python3.8/dist-packages (from markdown>=2.6.8->tensorboard<2.10,>=2.9->tensorflow->adversarial-robustness-toolbox[tensorflow]) (5.1.0)\n",
            "Requirement already satisfied: zipp>=0.5 in /usr/local/lib/python3.8/dist-packages (from importlib-metadata>=4.4->markdown>=2.6.8->tensorboard<2.10,>=2.9->tensorflow->adversarial-robustness-toolbox[tensorflow]) (3.11.0)\n",
            "Requirement already satisfied: pyasn1<0.5.0,>=0.4.6 in /usr/local/lib/python3.8/dist-packages (from pyasn1-modules>=0.2.1->google-auth<3,>=1.6.3->tensorboard<2.10,>=2.9->tensorflow->adversarial-robustness-toolbox[tensorflow]) (0.4.8)\n",
            "Requirement already satisfied: chardet<4,>=3.0.2 in /usr/local/lib/python3.8/dist-packages (from requests<3,>=2.21.0->tensorboard<2.10,>=2.9->tensorflow->adversarial-robustness-toolbox[tensorflow]) (3.0.4)\n",
            "Requirement already satisfied: urllib3!=1.25.0,!=1.25.1,<1.26,>=1.21.1 in /usr/local/lib/python3.8/dist-packages (from requests<3,>=2.21.0->tensorboard<2.10,>=2.9->tensorflow->adversarial-robustness-toolbox[tensorflow]) (1.24.3)\n",
            "Requirement already satisfied: certifi>=2017.4.17 in /usr/local/lib/python3.8/dist-packages (from requests<3,>=2.21.0->tensorboard<2.10,>=2.9->tensorflow->adversarial-robustness-toolbox[tensorflow]) (2022.12.7)\n",
            "Requirement already satisfied: idna<3,>=2.5 in /usr/local/lib/python3.8/dist-packages (from requests<3,>=2.21.0->tensorboard<2.10,>=2.9->tensorflow->adversarial-robustness-toolbox[tensorflow]) (2.10)\n",
            "Requirement already satisfied: oauthlib>=3.0.0 in /usr/local/lib/python3.8/dist-packages (from requests-oauthlib>=0.7.0->google-auth-oauthlib<0.5,>=0.4.1->tensorboard<2.10,>=2.9->tensorflow->adversarial-robustness-toolbox[tensorflow]) (3.2.2)\n",
            "Requirement already satisfied: pyparsing!=3.0.5,>=2.0.2 in /usr/local/lib/python3.8/dist-packages (from packaging->tensorflow->adversarial-robustness-toolbox[tensorflow]) (3.0.9)\n",
            "Requirement already satisfied: typeguard>=2.7 in /usr/local/lib/python3.8/dist-packages (from tensorflow-addons->adversarial-robustness-toolbox[tensorflow]) (2.7.1)\n"
          ]
        }
      ]
    },
    {
      "cell_type": "code",
      "source": [
        "(x_train, y_train), (x_test, y_test), min_, max_ = load_dataset('mnist')"
      ],
      "metadata": {
        "id": "Pe46_vQvdjPU"
      },
      "execution_count": 2,
      "outputs": []
    },
    {
      "cell_type": "markdown",
      "source": [
        "## 2. Train and evaluate a baseline classifier\n",
        "Load the classifier model:"
      ],
      "metadata": {
        "id": "qG6OoOqAdqK1"
      }
    },
    {
      "cell_type": "code",
      "source": [
        "path = get_file('mnist_cnn_original.h5', extract=False, path=config.ART_DATA_PATH,\n",
        "                url='https://www.dropbox.com/s/p2nyzne9chcerid/mnist_cnn_original.h5?dl=1')\n",
        "classifier_model = load_model(path)\n",
        "classifier = KerasClassifier(clip_values=(min_, max_), model=classifier_model, use_logits=False)"
      ],
      "metadata": {
        "id": "yXsTfn2mdx55"
      },
      "execution_count": 3,
      "outputs": []
    },
    {
      "cell_type": "code",
      "source": [
        "classifier_model.summary()"
      ],
      "metadata": {
        "id": "pCZw2nEEd2l-",
        "colab": {
          "base_uri": "https://localhost:8080/"
        },
        "outputId": "27e14f4e-05d5-42e5-f930-39f9f063a3a0"
      },
      "execution_count": 4,
      "outputs": [
        {
          "output_type": "stream",
          "name": "stdout",
          "text": [
            "Model: \"sequential\"\n",
            "_________________________________________________________________\n",
            " Layer (type)                Output Shape              Param #   \n",
            "=================================================================\n",
            " conv2d_1 (Conv2D)           (None, 26, 26, 32)        320       \n",
            "                                                                 \n",
            " max_pooling2d_1 (MaxPooling  (None, 13, 13, 32)       0         \n",
            " 2D)                                                             \n",
            "                                                                 \n",
            " conv2d_2 (Conv2D)           (None, 11, 11, 64)        18496     \n",
            "                                                                 \n",
            " max_pooling2d_2 (MaxPooling  (None, 5, 5, 64)         0         \n",
            " 2D)                                                             \n",
            "                                                                 \n",
            " flatten_1 (Flatten)         (None, 1600)              0         \n",
            "                                                                 \n",
            " dense_1 (Dense)             (None, 128)               204928    \n",
            "                                                                 \n",
            " dense_2 (Dense)             (None, 10)                1290      \n",
            "                                                                 \n",
            "=================================================================\n",
            "Total params: 225,034\n",
            "Trainable params: 225,034\n",
            "Non-trainable params: 0\n",
            "_________________________________________________________________\n"
          ]
        }
      ]
    },
    {
      "cell_type": "markdown",
      "source": [
        "Evaluate the classifier performance on the first 100 original test samples:"
      ],
      "metadata": {
        "id": "WrZ7mIBOgCnS"
      }
    },
    {
      "cell_type": "code",
      "source": [
        "x_test_pred = np.argmax(classifier.predict(x_test[:100]), axis=1)\n",
        "nb_correct_pred = np.sum(x_test_pred == np.argmax(y_test[:100], axis=1))\n",
        "\n",
        "print(\"Original test data (first 100 images):\")\n",
        "print(\"Correctly classified: {}\".format(nb_correct_pred))\n",
        "print(\"Incorrectly classified: {}\".format(100-nb_correct_pred))"
      ],
      "metadata": {
        "id": "Kagx249veA3c",
        "colab": {
          "base_uri": "https://localhost:8080/"
        },
        "outputId": "68c14aa0-efd7-4e0f-ad57-0ffdf3646ecf"
      },
      "execution_count": 5,
      "outputs": [
        {
          "output_type": "stream",
          "name": "stdout",
          "text": [
            "Original test data (first 100 images):\n",
            "Correctly classified: 100\n",
            "Incorrectly classified: 0\n"
          ]
        }
      ]
    },
    {
      "cell_type": "markdown",
      "source": [
        "Generate some adversarial samples:"
      ],
      "metadata": {
        "id": "JssVbCiDf-4k"
      }
    },
    {
      "cell_type": "code",
      "source": [
        "attacker = FastGradientMethod(classifier, eps=0.5)\n",
        "x_test_adv = attacker.generate(x_test[:100])"
      ],
      "metadata": {
        "id": "W3mCkWX0eIiq"
      },
      "execution_count": 6,
      "outputs": []
    },
    {
      "cell_type": "markdown",
      "source": [
        "And evaluate performance on those:"
      ],
      "metadata": {
        "id": "wgFw4P1Df97J"
      }
    },
    {
      "cell_type": "code",
      "source": [
        "x_test_adv_pred = np.argmax(classifier.predict(x_test_adv), axis=1)\n",
        "nb_correct_adv_pred = np.sum(x_test_adv_pred == np.argmax(y_test[:100], axis=1))\n",
        "\n",
        "print(\"Adversarial test data (first 100 images):\")\n",
        "print(\"Correctly classified: {}\".format(nb_correct_adv_pred))\n",
        "print(\"Incorrectly classified: {}\".format(100-nb_correct_adv_pred))"
      ],
      "metadata": {
        "id": "GALYgo2xeXEO",
        "colab": {
          "base_uri": "https://localhost:8080/"
        },
        "outputId": "14f41c8b-34c7-4705-bc2f-ee491d37ede0"
      },
      "execution_count": 7,
      "outputs": [
        {
          "output_type": "stream",
          "name": "stdout",
          "text": [
            "Adversarial test data (first 100 images):\n",
            "Correctly classified: 22\n",
            "Incorrectly classified: 78\n"
          ]
        }
      ]
    },
    {
      "cell_type": "markdown",
      "source": [
        "## 3. Adversarially train a robust classifier"
      ],
      "metadata": {
        "id": "KMxGy1J_eeGQ"
      }
    },
    {
      "cell_type": "code",
      "source": [
        "path = get_file('mnist_cnn_robust.h5', extract=False, path=config.ART_DATA_PATH,\n",
        "                url='https://www.dropbox.com/s/yutsncaniiy5uy8/mnist_cnn_robust.h5?dl=1')\n",
        "robust_classifier_model = load_model(path)\n",
        "robust_classifier = KerasClassifier(clip_values=(min_, max_), model=robust_classifier_model, use_logits=False)"
      ],
      "metadata": {
        "id": "8FA4qDaregiT"
      },
      "execution_count": 8,
      "outputs": []
    },
    {
      "cell_type": "markdown",
      "source": [
        "Note: the robust classifier has the same architecture as above, except the first dense layer has 1024 instead of 128 units. (This was recommend by Madry et al. (2017), Towards Deep Learning Models Resistant to Adversarial Attacks)"
      ],
      "metadata": {
        "id": "jVCijBWRenbo"
      }
    },
    {
      "cell_type": "code",
      "source": [
        "robust_classifier_model.summary()"
      ],
      "metadata": {
        "id": "nLdCsAC2eky0",
        "colab": {
          "base_uri": "https://localhost:8080/"
        },
        "outputId": "d2e043b2-08b4-4251-99aa-8152defe9d36"
      },
      "execution_count": 9,
      "outputs": [
        {
          "output_type": "stream",
          "name": "stdout",
          "text": [
            "Model: \"sequential_1\"\n",
            "_________________________________________________________________\n",
            " Layer (type)                Output Shape              Param #   \n",
            "=================================================================\n",
            " conv2d_3 (Conv2D)           (None, 26, 26, 32)        320       \n",
            "                                                                 \n",
            " max_pooling2d_3 (MaxPooling  (None, 13, 13, 32)       0         \n",
            " 2D)                                                             \n",
            "                                                                 \n",
            " conv2d_4 (Conv2D)           (None, 11, 11, 64)        18496     \n",
            "                                                                 \n",
            " max_pooling2d_4 (MaxPooling  (None, 5, 5, 64)         0         \n",
            " 2D)                                                             \n",
            "                                                                 \n",
            " flatten_2 (Flatten)         (None, 1600)              0         \n",
            "                                                                 \n",
            " dense_3 (Dense)             (None, 1024)              1639424   \n",
            "                                                                 \n",
            " dense_4 (Dense)             (None, 10)                10250     \n",
            "                                                                 \n",
            "=================================================================\n",
            "Total params: 1,668,490\n",
            "Trainable params: 1,668,490\n",
            "Non-trainable params: 0\n",
            "_________________________________________________________________\n"
          ]
        }
      ]
    },
    {
      "cell_type": "markdown",
      "source": [
        "Also as recommended by Madry et al., we use BIM/PGD attacks during adversarial training:"
      ],
      "metadata": {
        "id": "vCP28lgMeu-5"
      }
    },
    {
      "cell_type": "code",
      "source": [
        "attacks = BasicIterativeMethod(robust_classifier, eps=0.3, eps_step=0.01, max_iter=40)"
      ],
      "metadata": {
        "id": "hVAANLAXerdT"
      },
      "execution_count": 10,
      "outputs": []
    },
    {
      "cell_type": "markdown",
      "source": [
        "Perform adversarial training:"
      ],
      "metadata": {
        "id": "EyZkBg7qezeg"
      }
    },
    {
      "cell_type": "code",
      "source": [
        "# We had performed this before, starting with a randomly initialized model.\n",
        "# Adversarial training takes about 80 minutes on an NVIDIA V100.\n",
        "# The resulting model is the one loaded from mnist_cnn_robust.h5 above.\n",
        "\n",
        "# Here is the command we had used for the Adversarial Training\n",
        "\n",
        "# trainer = AdversarialTrainer(robust_classifier, attacks, ratio=1.0)\n",
        "# trainer.fit(x_train, y_train, nb_epochs=83, batch_size=50)"
      ],
      "metadata": {
        "id": "w91giSPle3Yy"
      },
      "execution_count": 11,
      "outputs": []
    },
    {
      "cell_type": "markdown",
      "source": [
        "## 4. Evaluate the robust classifier\n",
        "Evaluate the robust classifier's performance on the original test data:"
      ],
      "metadata": {
        "id": "DCjJPFKLe7qg"
      }
    },
    {
      "cell_type": "code",
      "source": [
        "x_test_robust_pred = np.argmax(robust_classifier.predict(x_test[:100]), axis=1)\n",
        "nb_correct_robust_pred = np.sum(x_test_robust_pred == np.argmax(y_test[:100], axis=1))\n",
        "\n",
        "print(\"Original test data (first 100 images):\")\n",
        "print(\"Correctly classified: {}\".format(nb_correct_robust_pred))\n",
        "print(\"Incorrectly classified: {}\".format(100-nb_correct_robust_pred))"
      ],
      "metadata": {
        "id": "wkqqMQ0Ge7TC",
        "colab": {
          "base_uri": "https://localhost:8080/"
        },
        "outputId": "a5b1cf1c-3c88-40c4-d4d5-5fc2276100ea"
      },
      "execution_count": 12,
      "outputs": [
        {
          "output_type": "stream",
          "name": "stdout",
          "text": [
            "Original test data (first 100 images):\n",
            "Correctly classified: 99\n",
            "Incorrectly classified: 1\n"
          ]
        }
      ]
    },
    {
      "cell_type": "markdown",
      "source": [
        "Evaluate the robust classifier's performance on the adversarial test data (white-box setting):"
      ],
      "metadata": {
        "id": "ieyrvRc_fD_D"
      }
    },
    {
      "cell_type": "code",
      "source": [
        "attacker_robust = FastGradientMethod(robust_classifier, eps=0.5)\n",
        "x_test_adv_robust = attacker_robust.generate(x_test[:100])"
      ],
      "metadata": {
        "id": "uQksxgiofGoq"
      },
      "execution_count": 13,
      "outputs": []
    },
    {
      "cell_type": "code",
      "source": [
        "x_test_adv_robust_pred = np.argmax(robust_classifier.predict(x_test_adv_robust), axis=1)\n",
        "nb_correct_adv_robust_pred = np.sum(x_test_adv_robust_pred == np.argmax(y_test[:100], axis=1))\n",
        "\n",
        "print(\"Adversarial test data (first 100 images):\")\n",
        "print(\"Correctly classified: {}\".format(nb_correct_adv_robust_pred))\n",
        "print(\"Incorrectly classified: {}\".format(100-nb_correct_adv_robust_pred))"
      ],
      "metadata": {
        "id": "b9JvPlE5fKEr",
        "colab": {
          "base_uri": "https://localhost:8080/"
        },
        "outputId": "24e2b70d-a938-4b07-d111-0849d7aab45d"
      },
      "execution_count": 14,
      "outputs": [
        {
          "output_type": "stream",
          "name": "stdout",
          "text": [
            "Adversarial test data (first 100 images):\n",
            "Correctly classified: 79\n",
            "Incorrectly classified: 21\n"
          ]
        }
      ]
    },
    {
      "cell_type": "markdown",
      "source": [
        "Compare the performance of the original and the robust classifier over a range of `eps` values:"
      ],
      "metadata": {
        "id": "kfeXTSH9fOKS"
      }
    },
    {
      "cell_type": "code",
      "source": [
        "eps_range = [0.01, 0.02, 0.03, 0.04, 0.05, 0.1, 0.2, 0.3, 0.4, 0.5, 0.6, 0.7, 0.8, 0.9]\n",
        "nb_correct_original = []\n",
        "nb_correct_robust = []\n",
        "\n",
        "for eps in eps_range:\n",
        "    attacker.set_params(**{'eps': eps})\n",
        "    attacker_robust.set_params(**{'eps': eps})\n",
        "    x_test_adv = attacker.generate(x_test[:100])\n",
        "    x_test_adv_robust = attacker_robust.generate(x_test[:100])\n",
        "    \n",
        "    x_test_adv_pred = np.argmax(classifier.predict(x_test_adv), axis=1)\n",
        "    nb_correct_original += [np.sum(x_test_adv_pred == np.argmax(y_test[:100], axis=1))]\n",
        "    \n",
        "    x_test_adv_robust_pred = np.argmax(robust_classifier.predict(x_test_adv_robust), axis=1)\n",
        "    nb_correct_robust += [np.sum(x_test_adv_robust_pred == np.argmax(y_test[:100], axis=1))]\n",
        "\n",
        "eps_range = [0] + eps_range\n",
        "nb_correct_original = [nb_correct_pred] + nb_correct_original\n",
        "nb_correct_robust = [nb_correct_robust_pred] + nb_correct_robust"
      ],
      "metadata": {
        "id": "7LH1GXfYfSdy"
      },
      "execution_count": 15,
      "outputs": []
    },
    {
      "cell_type": "code",
      "source": [
        "fig, ax = plt.subplots()\n",
        "ax.plot(np.array(eps_range), np.array(nb_correct_original), 'b--', label='Original classifier')\n",
        "ax.plot(np.array(eps_range), np.array(nb_correct_robust), 'r--', label='Robust classifier')\n",
        "\n",
        "legend = ax.legend(loc='upper center', shadow=True, fontsize='large')\n",
        "legend.get_frame().set_facecolor('#00FFCC')\n",
        "\n",
        "plt.xlabel('Attack strength (eps)')\n",
        "plt.ylabel('Correct predictions')\n",
        "plt.show()"
      ],
      "metadata": {
        "id": "R-1mxj2CfVjK",
        "colab": {
          "base_uri": "https://localhost:8080/",
          "height": 279
        },
        "outputId": "d5c3c53f-f3f3-46b7-fabc-6c23f358fbb4"
      },
      "execution_count": 16,
      "outputs": [
        {
          "output_type": "display_data",
          "data": {
            "text/plain": [
              "<Figure size 432x288 with 1 Axes>"
            ],
            "image/png": "[encoded data removed]"
          },
          "metadata": {
            "needs_background": "light"
          }
        }
      ]
    },
    {
      "cell_type": "markdown",
      "source": [
        "## Validating a claim\n",
        "\n",
        "---\n",
        "\n",
        "In this section, you will validate a claim from the original work.\n",
        "\n",
        "At the top of this section, add a text cell:\n",
        "\n",
        "* explaining in your own words what claim in the original work you choose to validate, why you thought this would be interesting or useful, and what you learned from it.\n",
        "* briefly discussing the results.\n",
        "* and explaining any outside sources you used, and how you used them. For example, if your paper is about \"Model A\" and you chose to build on it by adding a comparison to \"Model B\", and you used some code you found online for \"Model B\", you should explain where the code for \"Model B\" came from and how you used it/adapted it.\n",
        "\n",
        "Then, the rest of this section can be code cells + code output cells. These will be assumed to be **original work** unless stated otherwise. In **every single code cell** that is copied or adapted from another source, you must add a citation as a comment at the top of the cell.\n",
        "\n",
        "I should be able to generate all of your results just by running each of the notebook cells in sequence. In case your project requires data to be uploaded to the workspace, use `git`, `wget`, `gdown`, or another tool to retrieve them directly - don't require me to upload data to the notebook.\n",
        "\n",
        "Delete this cell of instructions after you have finished this section.\n",
        "\n",
        "\n",
        "---"
      ],
      "metadata": {
        "id": "OgwFmutkwsbr"
      }
    },
    {
      "cell_type": "markdown",
      "source": [
        "## 1. Loading prerequisites and data"
      ],
      "metadata": {
        "id": "vnfPs5TxgwZW"
      }
    },
    {
      "cell_type": "code",
      "source": [
        "!pip install adversarial-robustness-toolbox\n",
        "!pip install adversarial-robustness-toolbox[tensorflow]\n",
        "\n",
        "import tensorflow as tf\n",
        "\n",
        "from keras.models import load_model\n",
        "\n",
        "tf.compat.v1.disable_eager_execution()\n",
        "from tensorflow.keras.models import Sequential\n",
        "from tensorflow.keras.layers import Dense, Flatten, Conv2D, MaxPooling2D\n",
        "from tensorflow.keras.losses import categorical_crossentropy\n",
        "from tensorflow.keras.optimizers import Adam\n",
        "import numpy as np\n",
        "\n",
        "from art.attacks.evasion import FastGradientMethod, ProjectedGradientDescent, BasicIterativeMethod\n",
        "from art.estimators.classification import KerasClassifier\n",
        "from art.defences.trainer import AdversarialTrainer, AdversarialTrainerMadryPGD\n",
        "from art.utils import load_mnist\n",
        "\n",
        "%matplotlib inline\n",
        "import matplotlib.pyplot as plt"
      ],
      "metadata": {
        "id": "I3F1IVX7g310",
        "colab": {
          "base_uri": "https://localhost:8080/"
        },
        "outputId": "7310184b-a4cc-40aa-ad5f-1f216d0a3c47"
      },
      "execution_count": 17,
      "outputs": [
        {
          "output_type": "stream",
          "name": "stdout",
          "text": [
            "Looking in indexes: https://pypi.org/simple, https://us-python.pkg.dev/colab-wheels/public/simple/\n",
            "Requirement already satisfied: adversarial-robustness-toolbox in /usr/local/lib/python3.8/dist-packages (1.12.2)\n",
            "Requirement already satisfied: setuptools in /usr/local/lib/python3.8/dist-packages (from adversarial-robustness-toolbox) (57.4.0)\n",
            "Requirement already satisfied: numpy>=1.18.0 in /usr/local/lib/python3.8/dist-packages (from adversarial-robustness-toolbox) (1.21.6)\n",
            "Requirement already satisfied: scipy>=1.4.1 in /usr/local/lib/python3.8/dist-packages (from adversarial-robustness-toolbox) (1.7.3)\n",
            "Requirement already satisfied: six in /usr/local/lib/python3.8/dist-packages (from adversarial-robustness-toolbox) (1.15.0)\n",
            "Requirement already satisfied: tqdm in /usr/local/lib/python3.8/dist-packages (from adversarial-robustness-toolbox) (4.64.1)\n",
            "Requirement already satisfied: scikit-learn<1.1.0,>=0.22.2 in /usr/local/lib/python3.8/dist-packages (from adversarial-robustness-toolbox) (1.0.2)\n",
            "Requirement already satisfied: joblib>=0.11 in /usr/local/lib/python3.8/dist-packages (from scikit-learn<1.1.0,>=0.22.2->adversarial-robustness-toolbox) (1.2.0)\n",
            "Requirement already satisfied: threadpoolctl>=2.0.0 in /usr/local/lib/python3.8/dist-packages (from scikit-learn<1.1.0,>=0.22.2->adversarial-robustness-toolbox) (3.1.0)\n",
            "Looking in indexes: https://pypi.org/simple, https://us-python.pkg.dev/colab-wheels/public/simple/\n",
            "Requirement already satisfied: adversarial-robustness-toolbox[tensorflow] in /usr/local/lib/python3.8/dist-packages (1.12.2)\n",
            "Requirement already satisfied: scipy>=1.4.1 in /usr/local/lib/python3.8/dist-packages (from adversarial-robustness-toolbox[tensorflow]) (1.7.3)\n",
            "Requirement already satisfied: numpy>=1.18.0 in /usr/local/lib/python3.8/dist-packages (from adversarial-robustness-toolbox[tensorflow]) (1.21.6)\n",
            "Requirement already satisfied: tqdm in /usr/local/lib/python3.8/dist-packages (from adversarial-robustness-toolbox[tensorflow]) (4.64.1)\n",
            "Requirement already satisfied: six in /usr/local/lib/python3.8/dist-packages (from adversarial-robustness-toolbox[tensorflow]) (1.15.0)\n",
            "Requirement already satisfied: setuptools in /usr/local/lib/python3.8/dist-packages (from adversarial-robustness-toolbox[tensorflow]) (57.4.0)\n",
            "Requirement already satisfied: scikit-learn<1.1.0,>=0.22.2 in /usr/local/lib/python3.8/dist-packages (from adversarial-robustness-toolbox[tensorflow]) (1.0.2)\n",
            "Requirement already satisfied: tensorflow-addons in /usr/local/lib/python3.8/dist-packages (from adversarial-robustness-toolbox[tensorflow]) (0.19.0)\n",
            "Requirement already satisfied: tensorflow in /usr/local/lib/python3.8/dist-packages (from adversarial-robustness-toolbox[tensorflow]) (2.9.2)\n",
            "Requirement already satisfied: h5py in /usr/local/lib/python3.8/dist-packages (from adversarial-robustness-toolbox[tensorflow]) (3.1.0)\n",
            "Requirement already satisfied: joblib>=0.11 in /usr/local/lib/python3.8/dist-packages (from scikit-learn<1.1.0,>=0.22.2->adversarial-robustness-toolbox[tensorflow]) (1.2.0)\n",
            "Requirement already satisfied: threadpoolctl>=2.0.0 in /usr/local/lib/python3.8/dist-packages (from scikit-learn<1.1.0,>=0.22.2->adversarial-robustness-toolbox[tensorflow]) (3.1.0)\n",
            "Requirement already satisfied: typing-extensions>=3.6.6 in /usr/local/lib/python3.8/dist-packages (from tensorflow->adversarial-robustness-toolbox[tensorflow]) (4.4.0)\n",
            "Requirement already satisfied: astunparse>=1.6.0 in /usr/local/lib/python3.8/dist-packages (from tensorflow->adversarial-robustness-toolbox[tensorflow]) (1.6.3)\n",
            "Requirement already satisfied: protobuf<3.20,>=3.9.2 in /usr/local/lib/python3.8/dist-packages (from tensorflow->adversarial-robustness-toolbox[tensorflow]) (3.19.6)\n",
            "Requirement already satisfied: opt-einsum>=2.3.2 in /usr/local/lib/python3.8/dist-packages (from tensorflow->adversarial-robustness-toolbox[tensorflow]) (3.3.0)\n",
            "Requirement already satisfied: wrapt>=1.11.0 in /usr/local/lib/python3.8/dist-packages (from tensorflow->adversarial-robustness-toolbox[tensorflow]) (1.14.1)\n",
            "Requirement already satisfied: google-pasta>=0.1.1 in /usr/local/lib/python3.8/dist-packages (from tensorflow->adversarial-robustness-toolbox[tensorflow]) (0.2.0)\n",
            "Requirement already satisfied: tensorflow-io-gcs-filesystem>=0.23.1 in /usr/local/lib/python3.8/dist-packages (from tensorflow->adversarial-robustness-toolbox[tensorflow]) (0.28.0)\n",
            "Requirement already satisfied: grpcio<2.0,>=1.24.3 in /usr/local/lib/python3.8/dist-packages (from tensorflow->adversarial-robustness-toolbox[tensorflow]) (1.51.1)\n",
            "Requirement already satisfied: tensorflow-estimator<2.10.0,>=2.9.0rc0 in /usr/local/lib/python3.8/dist-packages (from tensorflow->adversarial-robustness-toolbox[tensorflow]) (2.9.0)\n",
            "Requirement already satisfied: absl-py>=1.0.0 in /usr/local/lib/python3.8/dist-packages (from tensorflow->adversarial-robustness-toolbox[tensorflow]) (1.3.0)\n",
            "Requirement already satisfied: flatbuffers<2,>=1.12 in /usr/local/lib/python3.8/dist-packages (from tensorflow->adversarial-robustness-toolbox[tensorflow]) (1.12)\n",
            "Requirement already satisfied: keras<2.10.0,>=2.9.0rc0 in /usr/local/lib/python3.8/dist-packages (from tensorflow->adversarial-robustness-toolbox[tensorflow]) (2.9.0)\n",
            "Requirement already satisfied: packaging in /usr/local/lib/python3.8/dist-packages (from tensorflow->adversarial-robustness-toolbox[tensorflow]) (21.3)\n",
            "Requirement already satisfied: keras-preprocessing>=1.1.1 in /usr/local/lib/python3.8/dist-packages (from tensorflow->adversarial-robustness-toolbox[tensorflow]) (1.1.2)\n",
            "Requirement already satisfied: libclang>=13.0.0 in /usr/local/lib/python3.8/dist-packages (from tensorflow->adversarial-robustness-toolbox[tensorflow]) (14.0.6)\n",
            "Requirement already satisfied: tensorboard<2.10,>=2.9 in /usr/local/lib/python3.8/dist-packages (from tensorflow->adversarial-robustness-toolbox[tensorflow]) (2.9.1)\n",
            "Requirement already satisfied: gast<=0.4.0,>=0.2.1 in /usr/local/lib/python3.8/dist-packages (from tensorflow->adversarial-robustness-toolbox[tensorflow]) (0.4.0)\n",
            "Requirement already satisfied: termcolor>=1.1.0 in /usr/local/lib/python3.8/dist-packages (from tensorflow->adversarial-robustness-toolbox[tensorflow]) (2.1.1)\n",
            "Requirement already satisfied: wheel<1.0,>=0.23.0 in /usr/local/lib/python3.8/dist-packages (from astunparse>=1.6.0->tensorflow->adversarial-robustness-toolbox[tensorflow]) (0.38.4)\n",
            "Requirement already satisfied: google-auth<3,>=1.6.3 in /usr/local/lib/python3.8/dist-packages (from tensorboard<2.10,>=2.9->tensorflow->adversarial-robustness-toolbox[tensorflow]) (2.15.0)\n",
            "Requirement already satisfied: markdown>=2.6.8 in /usr/local/lib/python3.8/dist-packages (from tensorboard<2.10,>=2.9->tensorflow->adversarial-robustness-toolbox[tensorflow]) (3.4.1)\n",
            "Requirement already satisfied: tensorboard-plugin-wit>=1.6.0 in /usr/local/lib/python3.8/dist-packages (from tensorboard<2.10,>=2.9->tensorflow->adversarial-robustness-toolbox[tensorflow]) (1.8.1)\n",
            "Requirement already satisfied: google-auth-oauthlib<0.5,>=0.4.1 in /usr/local/lib/python3.8/dist-packages (from tensorboard<2.10,>=2.9->tensorflow->adversarial-robustness-toolbox[tensorflow]) (0.4.6)\n",
            "Requirement already satisfied: tensorboard-data-server<0.7.0,>=0.6.0 in /usr/local/lib/python3.8/dist-packages (from tensorboard<2.10,>=2.9->tensorflow->adversarial-robustness-toolbox[tensorflow]) (0.6.1)\n",
            "Requirement already satisfied: requests<3,>=2.21.0 in /usr/local/lib/python3.8/dist-packages (from tensorboard<2.10,>=2.9->tensorflow->adversarial-robustness-toolbox[tensorflow]) (2.23.0)\n",
            "Requirement already satisfied: werkzeug>=1.0.1 in /usr/local/lib/python3.8/dist-packages (from tensorboard<2.10,>=2.9->tensorflow->adversarial-robustness-toolbox[tensorflow]) (1.0.1)\n",
            "Requirement already satisfied: rsa<5,>=3.1.4 in /usr/local/lib/python3.8/dist-packages (from google-auth<3,>=1.6.3->tensorboard<2.10,>=2.9->tensorflow->adversarial-robustness-toolbox[tensorflow]) (4.9)\n",
            "Requirement already satisfied: pyasn1-modules>=0.2.1 in /usr/local/lib/python3.8/dist-packages (from google-auth<3,>=1.6.3->tensorboard<2.10,>=2.9->tensorflow->adversarial-robustness-toolbox[tensorflow]) (0.2.8)\n",
            "Requirement already satisfied: cachetools<6.0,>=2.0.0 in /usr/local/lib/python3.8/dist-packages (from google-auth<3,>=1.6.3->tensorboard<2.10,>=2.9->tensorflow->adversarial-robustness-toolbox[tensorflow]) (5.2.0)\n",
            "Requirement already satisfied: requests-oauthlib>=0.7.0 in /usr/local/lib/python3.8/dist-packages (from google-auth-oauthlib<0.5,>=0.4.1->tensorboard<2.10,>=2.9->tensorflow->adversarial-robustness-toolbox[tensorflow]) (1.3.1)\n",
            "Requirement already satisfied: importlib-metadata>=4.4 in /usr/local/lib/python3.8/dist-packages (from markdown>=2.6.8->tensorboard<2.10,>=2.9->tensorflow->adversarial-robustness-toolbox[tensorflow]) (5.1.0)\n",
            "Requirement already satisfied: zipp>=0.5 in /usr/local/lib/python3.8/dist-packages (from importlib-metadata>=4.4->markdown>=2.6.8->tensorboard<2.10,>=2.9->tensorflow->adversarial-robustness-toolbox[tensorflow]) (3.11.0)\n",
            "Requirement already satisfied: pyasn1<0.5.0,>=0.4.6 in /usr/local/lib/python3.8/dist-packages (from pyasn1-modules>=0.2.1->google-auth<3,>=1.6.3->tensorboard<2.10,>=2.9->tensorflow->adversarial-robustness-toolbox[tensorflow]) (0.4.8)\n",
            "Requirement already satisfied: certifi>=2017.4.17 in /usr/local/lib/python3.8/dist-packages (from requests<3,>=2.21.0->tensorboard<2.10,>=2.9->tensorflow->adversarial-robustness-toolbox[tensorflow]) (2022.12.7)\n",
            "Requirement already satisfied: idna<3,>=2.5 in /usr/local/lib/python3.8/dist-packages (from requests<3,>=2.21.0->tensorboard<2.10,>=2.9->tensorflow->adversarial-robustness-toolbox[tensorflow]) (2.10)\n",
            "Requirement already satisfied: chardet<4,>=3.0.2 in /usr/local/lib/python3.8/dist-packages (from requests<3,>=2.21.0->tensorboard<2.10,>=2.9->tensorflow->adversarial-robustness-toolbox[tensorflow]) (3.0.4)\n",
            "Requirement already satisfied: urllib3!=1.25.0,!=1.25.1,<1.26,>=1.21.1 in /usr/local/lib/python3.8/dist-packages (from requests<3,>=2.21.0->tensorboard<2.10,>=2.9->tensorflow->adversarial-robustness-toolbox[tensorflow]) (1.24.3)\n",
            "Requirement already satisfied: oauthlib>=3.0.0 in /usr/local/lib/python3.8/dist-packages (from requests-oauthlib>=0.7.0->google-auth-oauthlib<0.5,>=0.4.1->tensorboard<2.10,>=2.9->tensorflow->adversarial-robustness-toolbox[tensorflow]) (3.2.2)\n",
            "Requirement already satisfied: pyparsing!=3.0.5,>=2.0.2 in /usr/local/lib/python3.8/dist-packages (from packaging->tensorflow->adversarial-robustness-toolbox[tensorflow]) (3.0.9)\n",
            "Requirement already satisfied: typeguard>=2.7 in /usr/local/lib/python3.8/dist-packages (from tensorflow-addons->adversarial-robustness-toolbox[tensorflow]) (2.7.1)\n"
          ]
        }
      ]
    },
    {
      "cell_type": "code",
      "source": [
        "(x_train, y_train), (x_test, y_test), min_pixel_value, max_pixel_value = load_mnist()"
      ],
      "metadata": {
        "id": "0hSel6thg5O_"
      },
      "execution_count": 18,
      "outputs": []
    },
    {
      "cell_type": "markdown",
      "source": [
        "## 2. Train and evaluate a baseline classifier"
      ],
      "metadata": {
        "id": "BLctDOtIhGJA"
      }
    },
    {
      "cell_type": "markdown",
      "source": [
        "Create classifier models of differing sizes and record their performance on benign and adversarial datasets:"
      ],
      "metadata": {
        "id": "tL2dpguXjneQ"
      }
    },
    {
      "cell_type": "code",
      "source": [
        "B_accuracy = []\n",
        "FGM_accuracy = []\n",
        "tf.keras.backend.clear_session()\n",
        "\n",
        "for i in range(6):\n",
        "  # model = Sequential()\n",
        "  # model.add(Conv2D(32, kernel_size=(3, 3), activation=\"relu\", input_shape=x_train.shape[1:]))\n",
        "  # model.add(MaxPooling2D(pool_size=(2, 2)))\n",
        "  # model.add(Conv2D(64, (3, 3), activation=\"relu\"))\n",
        "  # model.add(MaxPooling2D(pool_size=(2, 2)))\n",
        "  # model.add(Flatten())\n",
        "  # model.add(Dense(64*(2**i), activation=\"relu\"))\n",
        "  # model.add(Dense(10, activation=\"softmax\"))\n",
        "  # model.compile(loss=\"categorical_crossentropy\", optimizer=\"adam\", metrics=[\"accuracy\"])\n",
        "\n",
        "  # model.fit(x_train, y_train, batch_size=64, epochs=10)\n",
        "\n",
        "  # model.save(\"benign_model_{}.h5\".format(i))\n",
        "  model = load_model(\"benign_model_{}.h5\".format(i))\n",
        "\n",
        "  model.summary()\n",
        "\n",
        "  classifier = KerasClassifier(model=model, clip_values=(min_pixel_value, max_pixel_value), use_logits=False)\n",
        "\n",
        "  predictions = classifier.predict(x_test[:100])\n",
        "  accuracy = np.sum(np.argmax(predictions, axis=1) == np.argmax(y_test[:100], axis=1)) / len(y_test[:100])\n",
        "  B_accuracy.append(accuracy)\n",
        "  print(\"Accuracy on benign test examples: {}%\".format(accuracy * 100))\n",
        "\n",
        "  attack = FastGradientMethod(classifier, eps=0.5)\n",
        "  x_test_adv = attack.generate(x=x_test[:100])\n",
        "  predictions = classifier.predict(x_test_adv)\n",
        "  accuracy = np.sum(np.argmax(predictions, axis=1) == np.argmax(y_test[:100], axis=1)) / len(y_test[:100])\n",
        "  FGM_accuracy.append(accuracy)\n",
        "  print(\"Accuracy on FGM adversarial test examples: {}%\".format(accuracy * 100))\n",
        "\n",
        "  del model\n",
        "  tf.keras.backend.clear_session()"
      ],
      "metadata": {
        "id": "eHFQBivzjmNU",
        "colab": {
          "base_uri": "https://localhost:8080/"
        },
        "outputId": "7c8b7c6f-e5a6-444b-bd05-b5d55e206163"
      },
      "execution_count": 19,
      "outputs": [
        {
          "output_type": "stream",
          "name": "stdout",
          "text": [
            "Model: \"sequential\"\n",
            "_________________________________________________________________\n",
            " Layer (type)                Output Shape              Param #   \n",
            "=================================================================\n",
            " conv2d (Conv2D)             (None, 26, 26, 32)        320       \n",
            "                                                                 \n",
            " max_pooling2d (MaxPooling2D  (None, 13, 13, 32)       0         \n",
            " )                                                               \n",
            "                                                                 \n",
            " conv2d_1 (Conv2D)           (None, 11, 11, 64)        18496     \n",
            "                                                                 \n",
            " max_pooling2d_1 (MaxPooling  (None, 5, 5, 64)         0         \n",
            " 2D)                                                             \n",
            "                                                                 \n",
            " flatten (Flatten)           (None, 1600)              0         \n",
            "                                                                 \n",
            " dense (Dense)               (None, 64)                102464    \n",
            "                                                                 \n",
            " dense_1 (Dense)             (None, 10)                650       \n",
            "                                                                 \n",
            "=================================================================\n",
            "Total params: 121,930\n",
            "Trainable params: 121,930\n",
            "Non-trainable params: 0\n",
            "_________________________________________________________________\n",
            "Accuracy on benign test examples: 98.0%\n",
            "Accuracy on FGM adversarial test examples: 6.0%\n",
            "Model: \"sequential\"\n",
            "_________________________________________________________________\n",
            " Layer (type)                Output Shape              Param #   \n",
            "=================================================================\n",
            " conv2d (Conv2D)             (None, 26, 26, 32)        320       \n",
            "                                                                 \n",
            " max_pooling2d (MaxPooling2D  (None, 13, 13, 32)       0         \n",
            " )                                                               \n",
            "                                                                 \n",
            " conv2d_1 (Conv2D)           (None, 11, 11, 64)        18496     \n",
            "                                                                 \n",
            " max_pooling2d_1 (MaxPooling  (None, 5, 5, 64)         0         \n",
            " 2D)                                                             \n",
            "                                                                 \n",
            " flatten (Flatten)           (None, 1600)              0         \n",
            "                                                                 \n",
            " dense (Dense)               (None, 128)               204928    \n",
            "                                                                 \n",
            " dense_1 (Dense)             (None, 10)                1290      \n",
            "                                                                 \n",
            "=================================================================\n",
            "Total params: 225,034\n",
            "Trainable params: 225,034\n",
            "Non-trainable params: 0\n",
            "_________________________________________________________________\n",
            "Accuracy on benign test examples: 100.0%\n",
            "Accuracy on FGM adversarial test examples: 15.0%\n",
            "Model: \"sequential\"\n",
            "_________________________________________________________________\n",
            " Layer (type)                Output Shape              Param #   \n",
            "=================================================================\n",
            " conv2d (Conv2D)             (None, 26, 26, 32)        320       \n",
            "                                                                 \n",
            " max_pooling2d (MaxPooling2D  (None, 13, 13, 32)       0         \n",
            " )                                                               \n",
            "                                                                 \n",
            " conv2d_1 (Conv2D)           (None, 11, 11, 64)        18496     \n",
            "                                                                 \n",
            " max_pooling2d_1 (MaxPooling  (None, 5, 5, 64)         0         \n",
            " 2D)                                                             \n",
            "                                                                 \n",
            " flatten (Flatten)           (None, 1600)              0         \n",
            "                                                                 \n",
            " dense (Dense)               (None, 256)               409856    \n",
            "                                                                 \n",
            " dense_1 (Dense)             (None, 10)                2570      \n",
            "                                                                 \n",
            "=================================================================\n",
            "Total params: 431,242\n",
            "Trainable params: 431,242\n",
            "Non-trainable params: 0\n",
            "_________________________________________________________________\n",
            "Accuracy on benign test examples: 99.0%\n",
            "Accuracy on FGM adversarial test examples: 15.0%\n",
            "Model: \"sequential\"\n",
            "_________________________________________________________________\n",
            " Layer (type)                Output Shape              Param #   \n",
            "=================================================================\n",
            " conv2d (Conv2D)             (None, 26, 26, 32)        320       \n",
            "                                                                 \n",
            " max_pooling2d (MaxPooling2D  (None, 13, 13, 32)       0         \n",
            " )                                                               \n",
            "                                                                 \n",
            " conv2d_1 (Conv2D)           (None, 11, 11, 64)        18496     \n",
            "                                                                 \n",
            " max_pooling2d_1 (MaxPooling  (None, 5, 5, 64)         0         \n",
            " 2D)                                                             \n",
            "                                                                 \n",
            " flatten (Flatten)           (None, 1600)              0         \n",
            "                                                                 \n",
            " dense (Dense)               (None, 512)               819712    \n",
            "                                                                 \n",
            " dense_1 (Dense)             (None, 10)                5130      \n",
            "                                                                 \n",
            "=================================================================\n",
            "Total params: 843,658\n",
            "Trainable params: 843,658\n",
            "Non-trainable params: 0\n",
            "_________________________________________________________________\n",
            "Accuracy on benign test examples: 98.0%\n",
            "Accuracy on FGM adversarial test examples: 8.0%\n",
            "Model: \"sequential\"\n",
            "_________________________________________________________________\n",
            " Layer (type)                Output Shape              Param #   \n",
            "=================================================================\n",
            " conv2d (Conv2D)             (None, 26, 26, 32)        320       \n",
            "                                                                 \n",
            " max_pooling2d (MaxPooling2D  (None, 13, 13, 32)       0         \n",
            " )                                                               \n",
            "                                                                 \n",
            " conv2d_1 (Conv2D)           (None, 11, 11, 64)        18496     \n",
            "                                                                 \n",
            " max_pooling2d_1 (MaxPooling  (None, 5, 5, 64)         0         \n",
            " 2D)                                                             \n",
            "                                                                 \n",
            " flatten (Flatten)           (None, 1600)              0         \n",
            "                                                                 \n",
            " dense (Dense)               (None, 1024)              1639424   \n",
            "                                                                 \n",
            " dense_1 (Dense)             (None, 10)                10250     \n",
            "                                                                 \n",
            "=================================================================\n",
            "Total params: 1,668,490\n",
            "Trainable params: 1,668,490\n",
            "Non-trainable params: 0\n",
            "_________________________________________________________________\n",
            "Accuracy on benign test examples: 98.0%\n",
            "Accuracy on FGM adversarial test examples: 12.0%\n",
            "Model: \"sequential\"\n",
            "_________________________________________________________________\n",
            " Layer (type)                Output Shape              Param #   \n",
            "=================================================================\n",
            " conv2d (Conv2D)             (None, 26, 26, 32)        320       \n",
            "                                                                 \n",
            " max_pooling2d (MaxPooling2D  (None, 13, 13, 32)       0         \n",
            " )                                                               \n",
            "                                                                 \n",
            " conv2d_1 (Conv2D)           (None, 11, 11, 64)        18496     \n",
            "                                                                 \n",
            " max_pooling2d_1 (MaxPooling  (None, 5, 5, 64)         0         \n",
            " 2D)                                                             \n",
            "                                                                 \n",
            " flatten (Flatten)           (None, 1600)              0         \n",
            "                                                                 \n",
            " dense (Dense)               (None, 2048)              3278848   \n",
            "                                                                 \n",
            " dense_1 (Dense)             (None, 10)                20490     \n",
            "                                                                 \n",
            "=================================================================\n",
            "Total params: 3,318,154\n",
            "Trainable params: 3,318,154\n",
            "Non-trainable params: 0\n",
            "_________________________________________________________________\n",
            "Accuracy on benign test examples: 100.0%\n",
            "Accuracy on FGM adversarial test examples: 14.000000000000002%\n"
          ]
        }
      ]
    },
    {
      "cell_type": "markdown",
      "source": [
        "## 3. Adversarially train a robust classifier\n",
        "Create robust classifier models of differing sizes and record their performance on benign and adversarial datasets:"
      ],
      "metadata": {
        "id": "uKYaxVMZlJmV"
      }
    },
    {
      "cell_type": "code",
      "source": [
        "B_tr_accuracy = []\n",
        "FGM_tr_accuracy = []\n",
        "tf.keras.backend.clear_session()\n",
        "\n",
        "for i in range(6):\n",
        "  # robust_model = Sequential()\n",
        "  # robust_model.add(Conv2D(32, kernel_size=(3, 3), activation=\"relu\", input_shape=x_train.shape[1:]))\n",
        "  # robust_model.add(MaxPooling2D(pool_size=(2, 2)))\n",
        "  # robust_model.add(Conv2D(64, (3, 3), activation=\"relu\"))\n",
        "  # robust_model.add(MaxPooling2D(pool_size=(2, 2)))\n",
        "  # robust_model.add(Flatten())\n",
        "  # robust_model.add(Dense(64*(2**i), activation=\"relu\"))\n",
        "  # robust_model.add(Dense(10, activation=\"softmax\"))\n",
        "  # robust_model.compile(loss=\"categorical_crossentropy\", optimizer=\"adam\", metrics=[\"accuracy\"])\n",
        "  robust_model = load_model(\"ad_tr_model_{}.h5\".format(i))\n",
        "\n",
        "  robust_model.summary()\n",
        "\n",
        "  robust_classifier = KerasClassifier(model=robust_model, clip_values=(min_pixel_value, max_pixel_value), use_logits=False)\n",
        "  \n",
        "  # trainer = AdversarialTrainerMadryPGD(robust_classifier,  eps=0.3, eps_step=0.01, max_iter=10)\n",
        "  # trainer.fit(x_train, y_train, nb_epochs=10, batch_size=50)\n",
        "\n",
        "  # robust_model.save(\"ad_tr_model_{}.h5\".format(i))\n",
        "\n",
        "  predictions = robust_classifier.predict(x_test[:100])\n",
        "  accuracy = np.sum(np.argmax(predictions, axis=1) == np.argmax(y_test[:100], axis=1)) / len(y_test[:100])\n",
        "  B_tr_accuracy.append(accuracy)\n",
        "  print(\"Accuracy on benign test examples: {}%\".format(accuracy * 100))\n",
        "\n",
        "  attack = FastGradientMethod(robust_classifier, eps=0.5)\n",
        "  x_test_adv = attack.generate(x=x_test[:100])\n",
        "  predictions = robust_classifier.predict(x_test_adv)\n",
        "  accuracy = np.sum(np.argmax(predictions, axis=1) == np.argmax(y_test[:100], axis=1)) / len(y_test[:100])\n",
        "  FGM_tr_accuracy.append(accuracy)\n",
        "  print(\"Accuracy on FGM adversarial test examples: {}%\".format(accuracy * 100))\n",
        "  \n",
        "  del robust_model\n",
        "  tf.keras.backend.clear_session()"
      ],
      "metadata": {
        "id": "39sK3zmQlgwn",
        "colab": {
          "base_uri": "https://localhost:8080/"
        },
        "outputId": "e4ca6c28-e515-421f-b98e-3504f1306e47"
      },
      "execution_count": 20,
      "outputs": [
        {
          "output_type": "stream",
          "name": "stdout",
          "text": [
            "Model: \"sequential\"\n",
            "_________________________________________________________________\n",
            " Layer (type)                Output Shape              Param #   \n",
            "=================================================================\n",
            " conv2d (Conv2D)             (None, 26, 26, 32)        320       \n",
            "                                                                 \n",
            " max_pooling2d (MaxPooling2D  (None, 13, 13, 32)       0         \n",
            " )                                                               \n",
            "                                                                 \n",
            " conv2d_1 (Conv2D)           (None, 11, 11, 64)        18496     \n",
            "                                                                 \n",
            " max_pooling2d_1 (MaxPooling  (None, 5, 5, 64)         0         \n",
            " 2D)                                                             \n",
            "                                                                 \n",
            " flatten (Flatten)           (None, 1600)              0         \n",
            "                                                                 \n",
            " dense (Dense)               (None, 64)                102464    \n",
            "                                                                 \n",
            " dense_1 (Dense)             (None, 10)                650       \n",
            "                                                                 \n",
            "=================================================================\n",
            "Total params: 121,930\n",
            "Trainable params: 121,930\n",
            "Non-trainable params: 0\n",
            "_________________________________________________________________\n",
            "Accuracy on benign test examples: 99.0%\n",
            "Accuracy on FGM adversarial test examples: 72.0%\n",
            "Model: \"sequential\"\n",
            "_________________________________________________________________\n",
            " Layer (type)                Output Shape              Param #   \n",
            "=================================================================\n",
            " conv2d (Conv2D)             (None, 26, 26, 32)        320       \n",
            "                                                                 \n",
            " max_pooling2d (MaxPooling2D  (None, 13, 13, 32)       0         \n",
            " )                                                               \n",
            "                                                                 \n",
            " conv2d_1 (Conv2D)           (None, 11, 11, 64)        18496     \n",
            "                                                                 \n",
            " max_pooling2d_1 (MaxPooling  (None, 5, 5, 64)         0         \n",
            " 2D)                                                             \n",
            "                                                                 \n",
            " flatten (Flatten)           (None, 1600)              0         \n",
            "                                                                 \n",
            " dense (Dense)               (None, 128)               204928    \n",
            "                                                                 \n",
            " dense_1 (Dense)             (None, 10)                1290      \n",
            "                                                                 \n",
            "=================================================================\n",
            "Total params: 225,034\n",
            "Trainable params: 225,034\n",
            "Non-trainable params: 0\n",
            "_________________________________________________________________\n",
            "Accuracy on benign test examples: 99.0%\n",
            "Accuracy on FGM adversarial test examples: 78.0%\n",
            "Model: \"sequential\"\n",
            "_________________________________________________________________\n",
            " Layer (type)                Output Shape              Param #   \n",
            "=================================================================\n",
            " conv2d (Conv2D)             (None, 26, 26, 32)        320       \n",
            "                                                                 \n",
            " max_pooling2d (MaxPooling2D  (None, 13, 13, 32)       0         \n",
            " )                                                               \n",
            "                                                                 \n",
            " conv2d_1 (Conv2D)           (None, 11, 11, 64)        18496     \n",
            "                                                                 \n",
            " max_pooling2d_1 (MaxPooling  (None, 5, 5, 64)         0         \n",
            " 2D)                                                             \n",
            "                                                                 \n",
            " flatten (Flatten)           (None, 1600)              0         \n",
            "                                                                 \n",
            " dense (Dense)               (None, 256)               409856    \n",
            "                                                                 \n",
            " dense_1 (Dense)             (None, 10)                2570      \n",
            "                                                                 \n",
            "=================================================================\n",
            "Total params: 431,242\n",
            "Trainable params: 431,242\n",
            "Non-trainable params: 0\n",
            "_________________________________________________________________\n",
            "Accuracy on benign test examples: 99.0%\n",
            "Accuracy on FGM adversarial test examples: 66.0%\n",
            "Model: \"sequential\"\n",
            "_________________________________________________________________\n",
            " Layer (type)                Output Shape              Param #   \n",
            "=================================================================\n",
            " conv2d (Conv2D)             (None, 26, 26, 32)        320       \n",
            "                                                                 \n",
            " max_pooling2d (MaxPooling2D  (None, 13, 13, 32)       0         \n",
            " )                                                               \n",
            "                                                                 \n",
            " conv2d_1 (Conv2D)           (None, 11, 11, 64)        18496     \n",
            "                                                                 \n",
            " max_pooling2d_1 (MaxPooling  (None, 5, 5, 64)         0         \n",
            " 2D)                                                             \n",
            "                                                                 \n",
            " flatten (Flatten)           (None, 1600)              0         \n",
            "                                                                 \n",
            " dense (Dense)               (None, 512)               819712    \n",
            "                                                                 \n",
            " dense_1 (Dense)             (None, 10)                5130      \n",
            "                                                                 \n",
            "=================================================================\n",
            "Total params: 843,658\n",
            "Trainable params: 843,658\n",
            "Non-trainable params: 0\n",
            "_________________________________________________________________\n",
            "Accuracy on benign test examples: 99.0%\n",
            "Accuracy on FGM adversarial test examples: 71.0%\n",
            "Model: \"sequential\"\n",
            "_________________________________________________________________\n",
            " Layer (type)                Output Shape              Param #   \n",
            "=================================================================\n",
            " conv2d (Conv2D)             (None, 26, 26, 32)        320       \n",
            "                                                                 \n",
            " max_pooling2d (MaxPooling2D  (None, 13, 13, 32)       0         \n",
            " )                                                               \n",
            "                                                                 \n",
            " conv2d_1 (Conv2D)           (None, 11, 11, 64)        18496     \n",
            "                                                                 \n",
            " max_pooling2d_1 (MaxPooling  (None, 5, 5, 64)         0         \n",
            " 2D)                                                             \n",
            "                                                                 \n",
            " flatten (Flatten)           (None, 1600)              0         \n",
            "                                                                 \n",
            " dense (Dense)               (None, 1024)              1639424   \n",
            "                                                                 \n",
            " dense_1 (Dense)             (None, 10)                10250     \n",
            "                                                                 \n",
            "=================================================================\n",
            "Total params: 1,668,490\n",
            "Trainable params: 1,668,490\n",
            "Non-trainable params: 0\n",
            "_________________________________________________________________\n",
            "Accuracy on benign test examples: 99.0%\n",
            "Accuracy on FGM adversarial test examples: 78.0%\n",
            "Model: \"sequential\"\n",
            "_________________________________________________________________\n",
            " Layer (type)                Output Shape              Param #   \n",
            "=================================================================\n",
            " conv2d (Conv2D)             (None, 26, 26, 32)        320       \n",
            "                                                                 \n",
            " max_pooling2d (MaxPooling2D  (None, 13, 13, 32)       0         \n",
            " )                                                               \n",
            "                                                                 \n",
            " conv2d_1 (Conv2D)           (None, 11, 11, 64)        18496     \n",
            "                                                                 \n",
            " max_pooling2d_1 (MaxPooling  (None, 5, 5, 64)         0         \n",
            " 2D)                                                             \n",
            "                                                                 \n",
            " flatten (Flatten)           (None, 1600)              0         \n",
            "                                                                 \n",
            " dense (Dense)               (None, 2048)              3278848   \n",
            "                                                                 \n",
            " dense_1 (Dense)             (None, 10)                20490     \n",
            "                                                                 \n",
            "=================================================================\n",
            "Total params: 3,318,154\n",
            "Trainable params: 3,318,154\n",
            "Non-trainable params: 0\n",
            "_________________________________________________________________\n",
            "Accuracy on benign test examples: 99.0%\n",
            "Accuracy on FGM adversarial test examples: 86.0%\n"
          ]
        }
      ]
    },
    {
      "cell_type": "markdown",
      "source": [
        "## 4. Compare the performance of the original and the robust classifier\n",
        "\n",
        "Compare the performance of the original and the robust classifier with changes in size of the neural network"
      ],
      "metadata": {
        "id": "c1MYfWoXmDJh"
      }
    },
    {
      "cell_type": "code",
      "source": [
        "model_size = []\n",
        "\n",
        "for i in range(6):\n",
        "  model_size.append(64*(2**i))\n",
        "\n",
        "fig, ax = plt.subplots()\n",
        "ax.plot(np.array(model_size), np.array(B_accuracy), 'b--', label='Original classifier benign')\n",
        "ax.plot(np.array(model_size), np.array(B_tr_accuracy), 'r--', label='Robust classifier benign')\n",
        "ax.plot(np.array(model_size), np.array(FGM_accuracy), 'g--', label='Original classifier FGSM')\n",
        "ax.plot(np.array(model_size), np.array(FGM_tr_accuracy), 'y--', label='Robust classifier FGSM')\n",
        "\n",
        "legend = ax.legend(loc='upper center', shadow=True, fontsize='large', bbox_to_anchor=(0.5,1.5))\n",
        "legend.get_frame().set_facecolor('#FFEEEEEE')\n",
        "\n",
        "plt.xlabel('Size')\n",
        "plt.ylabel('Accuracy')\n",
        "plt.show()"
      ],
      "metadata": {
        "id": "iWNyQuMMmtHu",
        "colab": {
          "base_uri": "https://localhost:8080/",
          "height": 382
        },
        "outputId": "96c23641-23a7-4e91-f3b0-b55ba2eb6f73"
      },
      "execution_count": 21,
      "outputs": [
        {
          "output_type": "display_data",
          "data": {
            "text/plain": [
              "<Figure size 432x288 with 1 Axes>"
            ],
            "image/png": "[encoded data removed]"
          },
          "metadata": {
            "needs_background": "light"
          }
        }
      ]
    },
    {
      "cell_type": "markdown",
      "source": [
        "## References"
      ],
      "metadata": {
        "id": "oIZM2e1Swt9Q"
      }
    },
    {
      "cell_type": "markdown",
      "source": [
        "---\n",
        "\n",
        "In this cell, add a numbered list of references in your preferred citation format (IEEE or ACM formats are fine, make sure to include URLs for any online sources). You should have numbered references to these sources *in the text of the notebook, too*.\n",
        "\n",
        "\n",
        "Delete this cell of instructions after you have finished this section.\n",
        "\n",
        "---"
      ],
      "metadata": {
        "id": "LbdfEtK45eXA"
      }
    }
  ]
}